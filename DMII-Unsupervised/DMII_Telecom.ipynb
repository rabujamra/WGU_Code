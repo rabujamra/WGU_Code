{
 "cells": [
  {
   "cell_type": "code",
   "execution_count": 43,
   "metadata": {},
   "outputs": [],
   "source": [
    "import pandas as pd\n",
    "import numpy as np\n",
    "pd.set_option('display.max_columns', None)"
   ]
  },
  {
   "cell_type": "markdown",
   "metadata": {},
   "source": [
    "# 1. Read in data set, explore"
   ]
  },
  {
   "cell_type": "code",
   "execution_count": 44,
   "metadata": {},
   "outputs": [],
   "source": [
    "# Load the processed data\n",
    "\n",
    "df_telecom = pd.read_csv('../telecom_data1.csv')"
   ]
  },
  {
   "cell_type": "code",
   "execution_count": 45,
   "metadata": {},
   "outputs": [
    {
     "data": {
      "text/html": [
       "<div>\n",
       "<style scoped>\n",
       "    .dataframe tbody tr th:only-of-type {\n",
       "        vertical-align: middle;\n",
       "    }\n",
       "\n",
       "    .dataframe tbody tr th {\n",
       "        vertical-align: top;\n",
       "    }\n",
       "\n",
       "    .dataframe thead th {\n",
       "        text-align: right;\n",
       "    }\n",
       "</style>\n",
       "<table border=\"1\" class=\"dataframe\">\n",
       "  <thead>\n",
       "    <tr style=\"text-align: right;\">\n",
       "      <th></th>\n",
       "      <th>ID</th>\n",
       "      <th>Customer_id</th>\n",
       "      <th>Interaction</th>\n",
       "      <th>UID</th>\n",
       "      <th>zip</th>\n",
       "      <th>Lat</th>\n",
       "      <th>Lng</th>\n",
       "      <th>City</th>\n",
       "      <th>State</th>\n",
       "      <th>Population</th>\n",
       "      <th>County</th>\n",
       "      <th>Area</th>\n",
       "      <th>Timezone</th>\n",
       "      <th>Job</th>\n",
       "      <th>Children</th>\n",
       "      <th>Age</th>\n",
       "      <th>Education</th>\n",
       "      <th>Employment</th>\n",
       "      <th>Income</th>\n",
       "      <th>Marital</th>\n",
       "      <th>fav_color</th>\n",
       "      <th>Credit_card</th>\n",
       "      <th>Churn</th>\n",
       "      <th>Gender</th>\n",
       "      <th>SeniorCitizen</th>\n",
       "      <th>Contract</th>\n",
       "      <th>Partner</th>\n",
       "      <th>Depend</th>\n",
       "      <th>InternetService</th>\n",
       "      <th>Phone</th>\n",
       "      <th>Multiple</th>\n",
       "      <th>OnlineSecurity</th>\n",
       "      <th>OnlineBackup</th>\n",
       "      <th>DeviceProtection</th>\n",
       "      <th>TechSupport</th>\n",
       "      <th>StreamingTV</th>\n",
       "      <th>StreamingMovies</th>\n",
       "      <th>PaperlessBilling</th>\n",
       "      <th>PaymentMethod</th>\n",
       "      <th>Tenure</th>\n",
       "      <th>MonthlyCharge</th>\n",
       "      <th>TotalCharge</th>\n",
       "      <th>item1</th>\n",
       "      <th>item2</th>\n",
       "      <th>item3</th>\n",
       "      <th>item4</th>\n",
       "      <th>item5</th>\n",
       "      <th>item6</th>\n",
       "      <th>item7</th>\n",
       "      <th>item8</th>\n",
       "    </tr>\n",
       "  </thead>\n",
       "  <tbody>\n",
       "    <tr>\n",
       "      <th>0</th>\n",
       "      <td>1</td>\n",
       "      <td>K409198</td>\n",
       "      <td>4cb75839-4807-45e3-a9da-794e9ce53972</td>\n",
       "      <td>34536072f30ba5acb148becdfc5a0c34</td>\n",
       "      <td>23176</td>\n",
       "      <td>37.57039</td>\n",
       "      <td>-76.42148</td>\n",
       "      <td>Wake</td>\n",
       "      <td>VA</td>\n",
       "      <td>331</td>\n",
       "      <td>Middlesex</td>\n",
       "      <td>Urban</td>\n",
       "      <td>America/New_York</td>\n",
       "      <td>Production designer, theatre/television/film</td>\n",
       "      <td>1</td>\n",
       "      <td>68</td>\n",
       "      <td>Regular High School Diploma</td>\n",
       "      <td>Full Time</td>\n",
       "      <td>21242.88</td>\n",
       "      <td>Married</td>\n",
       "      <td>DarkCyan</td>\n",
       "      <td>JCB 16 digit</td>\n",
       "      <td>Yes</td>\n",
       "      <td>Female</td>\n",
       "      <td>No</td>\n",
       "      <td>One year</td>\n",
       "      <td>Yes</td>\n",
       "      <td>Yes</td>\n",
       "      <td>Fiber Optic</td>\n",
       "      <td>Yes</td>\n",
       "      <td>No</td>\n",
       "      <td>Yes</td>\n",
       "      <td>Yes</td>\n",
       "      <td>No</td>\n",
       "      <td>No</td>\n",
       "      <td>No</td>\n",
       "      <td>Yes</td>\n",
       "      <td>Yes</td>\n",
       "      <td>Credit Card (automatic)</td>\n",
       "      <td>6.795513</td>\n",
       "      <td>89.979239</td>\n",
       "      <td>577.760466</td>\n",
       "      <td>3</td>\n",
       "      <td>3</td>\n",
       "      <td>2</td>\n",
       "      <td>2</td>\n",
       "      <td>2</td>\n",
       "      <td>4</td>\n",
       "      <td>2</td>\n",
       "      <td>3</td>\n",
       "    </tr>\n",
       "    <tr>\n",
       "      <th>1</th>\n",
       "      <td>2</td>\n",
       "      <td>S120509</td>\n",
       "      <td>84632dbc-39c2-4b11-b840-577fd97ef223</td>\n",
       "      <td>2a6346e985cb7a3f29678436fcd66912</td>\n",
       "      <td>30114</td>\n",
       "      <td>34.24692</td>\n",
       "      <td>-84.52571</td>\n",
       "      <td>Canton</td>\n",
       "      <td>GA</td>\n",
       "      <td>53210</td>\n",
       "      <td>Cherokee</td>\n",
       "      <td>Suburban</td>\n",
       "      <td>America/New_York</td>\n",
       "      <td>Radiation protection practitioner</td>\n",
       "      <td>0</td>\n",
       "      <td>70</td>\n",
       "      <td>Associate's Degree</td>\n",
       "      <td>Full Time</td>\n",
       "      <td>5832.98</td>\n",
       "      <td>Married</td>\n",
       "      <td>LightPink</td>\n",
       "      <td>VISA 16 digit</td>\n",
       "      <td>No</td>\n",
       "      <td>Male</td>\n",
       "      <td>Yes</td>\n",
       "      <td>Month-to-month</td>\n",
       "      <td>No</td>\n",
       "      <td>Yes</td>\n",
       "      <td>Fiber Optic</td>\n",
       "      <td>Yes</td>\n",
       "      <td>Yes</td>\n",
       "      <td>Yes</td>\n",
       "      <td>No</td>\n",
       "      <td>No</td>\n",
       "      <td>No</td>\n",
       "      <td>Yes</td>\n",
       "      <td>Yes</td>\n",
       "      <td>Yes</td>\n",
       "      <td>Bank Transfer(automatic)</td>\n",
       "      <td>1.156681</td>\n",
       "      <td>94.973002</td>\n",
       "      <td>138.171459</td>\n",
       "      <td>2</td>\n",
       "      <td>2</td>\n",
       "      <td>2</td>\n",
       "      <td>3</td>\n",
       "      <td>4</td>\n",
       "      <td>1</td>\n",
       "      <td>2</td>\n",
       "      <td>2</td>\n",
       "    </tr>\n",
       "    <tr>\n",
       "      <th>2</th>\n",
       "      <td>3</td>\n",
       "      <td>K191035</td>\n",
       "      <td>cf372768-93dc-4021-a0c0-8222b6f5d53b</td>\n",
       "      <td>8eebc9f5cdff8d844fa63f873954d459</td>\n",
       "      <td>25253</td>\n",
       "      <td>38.92317</td>\n",
       "      <td>-81.96954</td>\n",
       "      <td>Letart</td>\n",
       "      <td>WV</td>\n",
       "      <td>2230</td>\n",
       "      <td>Mason</td>\n",
       "      <td>Urban</td>\n",
       "      <td>America/New_York</td>\n",
       "      <td>Industrial/product designer</td>\n",
       "      <td>1</td>\n",
       "      <td>86</td>\n",
       "      <td>Associate's Degree</td>\n",
       "      <td>Student</td>\n",
       "      <td>39798.11</td>\n",
       "      <td>Married</td>\n",
       "      <td>OldLace</td>\n",
       "      <td>Mastercard</td>\n",
       "      <td>Yes</td>\n",
       "      <td>Male</td>\n",
       "      <td>Yes</td>\n",
       "      <td>Two Year</td>\n",
       "      <td>Yes</td>\n",
       "      <td>No</td>\n",
       "      <td>DSL</td>\n",
       "      <td>Yes</td>\n",
       "      <td>Yes</td>\n",
       "      <td>No</td>\n",
       "      <td>No</td>\n",
       "      <td>No</td>\n",
       "      <td>No</td>\n",
       "      <td>No</td>\n",
       "      <td>Yes</td>\n",
       "      <td>Yes</td>\n",
       "      <td>Credit Card (automatic)</td>\n",
       "      <td>15.754144</td>\n",
       "      <td>99.947583</td>\n",
       "      <td>1587.135294</td>\n",
       "      <td>2</td>\n",
       "      <td>3</td>\n",
       "      <td>3</td>\n",
       "      <td>2</td>\n",
       "      <td>4</td>\n",
       "      <td>2</td>\n",
       "      <td>2</td>\n",
       "      <td>3</td>\n",
       "    </tr>\n",
       "  </tbody>\n",
       "</table>\n",
       "</div>"
      ],
      "text/plain": [
       "   ID Customer_id                           Interaction  \\\n",
       "0   1     K409198  4cb75839-4807-45e3-a9da-794e9ce53972   \n",
       "1   2     S120509  84632dbc-39c2-4b11-b840-577fd97ef223   \n",
       "2   3     K191035  cf372768-93dc-4021-a0c0-8222b6f5d53b   \n",
       "\n",
       "                                UID    zip       Lat       Lng    City State  \\\n",
       "0  34536072f30ba5acb148becdfc5a0c34  23176  37.57039 -76.42148    Wake    VA   \n",
       "1  2a6346e985cb7a3f29678436fcd66912  30114  34.24692 -84.52571  Canton    GA   \n",
       "2  8eebc9f5cdff8d844fa63f873954d459  25253  38.92317 -81.96954  Letart    WV   \n",
       "\n",
       "   Population     County      Area          Timezone  \\\n",
       "0         331  Middlesex     Urban  America/New_York   \n",
       "1       53210   Cherokee  Suburban  America/New_York   \n",
       "2        2230      Mason     Urban  America/New_York   \n",
       "\n",
       "                                            Job  Children  Age  \\\n",
       "0  Production designer, theatre/television/film         1   68   \n",
       "1             Radiation protection practitioner         0   70   \n",
       "2                   Industrial/product designer         1   86   \n",
       "\n",
       "                     Education Employment    Income  Marital  fav_color  \\\n",
       "0  Regular High School Diploma  Full Time  21242.88  Married   DarkCyan   \n",
       "1           Associate's Degree  Full Time   5832.98  Married  LightPink   \n",
       "2           Associate's Degree    Student  39798.11  Married    OldLace   \n",
       "\n",
       "     Credit_card Churn  Gender SeniorCitizen        Contract Partner Depend  \\\n",
       "0   JCB 16 digit   Yes  Female            No        One year     Yes    Yes   \n",
       "1  VISA 16 digit    No    Male           Yes  Month-to-month      No    Yes   \n",
       "2     Mastercard   Yes    Male           Yes        Two Year     Yes     No   \n",
       "\n",
       "  InternetService Phone Multiple OnlineSecurity OnlineBackup DeviceProtection  \\\n",
       "0     Fiber Optic   Yes       No            Yes          Yes               No   \n",
       "1     Fiber Optic   Yes      Yes            Yes           No               No   \n",
       "2             DSL   Yes      Yes             No           No               No   \n",
       "\n",
       "  TechSupport StreamingTV StreamingMovies PaperlessBilling  \\\n",
       "0          No          No             Yes              Yes   \n",
       "1          No         Yes             Yes              Yes   \n",
       "2          No          No             Yes              Yes   \n",
       "\n",
       "              PaymentMethod     Tenure  MonthlyCharge  TotalCharge  item1  \\\n",
       "0   Credit Card (automatic)   6.795513      89.979239   577.760466      3   \n",
       "1  Bank Transfer(automatic)   1.156681      94.973002   138.171459      2   \n",
       "2   Credit Card (automatic)  15.754144      99.947583  1587.135294      2   \n",
       "\n",
       "   item2  item3  item4  item5  item6  item7  item8  \n",
       "0      3      2      2      2      4      2      3  \n",
       "1      2      2      3      4      1      2      2  \n",
       "2      3      3      2      4      2      2      3  "
      ]
     },
     "execution_count": 45,
     "metadata": {},
     "output_type": "execute_result"
    }
   ],
   "source": [
    "df_telecom.head(3)"
   ]
  },
  {
   "cell_type": "code",
   "execution_count": 46,
   "metadata": {},
   "outputs": [],
   "source": [
    "#df_telecom.describe()\n",
    "#df_telecom.dtypes"
   ]
  },
  {
   "cell_type": "code",
   "execution_count": 47,
   "metadata": {},
   "outputs": [
    {
     "name": "stdout",
     "output_type": "stream",
     "text": [
      "(10000, 50)\n"
     ]
    }
   ],
   "source": [
    "X = df_telecom.copy()\n",
    "print(X.shape)"
   ]
  },
  {
   "cell_type": "markdown",
   "metadata": {},
   "source": [
    "# 2. Feature Engineering"
   ]
  },
  {
   "cell_type": "markdown",
   "metadata": {},
   "source": [
    "## Variable transformation "
   ]
  },
  {
   "cell_type": "code",
   "execution_count": 48,
   "metadata": {},
   "outputs": [],
   "source": [
    "# transform zip to categorical\n",
    "\n",
    "X['zip']= X['zip'].astype('str')"
   ]
  },
  {
   "cell_type": "markdown",
   "metadata": {},
   "source": [
    "## Variable selection"
   ]
  },
  {
   "cell_type": "markdown",
   "metadata": {},
   "source": [
    "### Continuous variables"
   ]
  },
  {
   "cell_type": "code",
   "execution_count": 49,
   "metadata": {
    "scrolled": true
   },
   "outputs": [
    {
     "data": {
      "text/html": [
       "<div>\n",
       "<style scoped>\n",
       "    .dataframe tbody tr th:only-of-type {\n",
       "        vertical-align: middle;\n",
       "    }\n",
       "\n",
       "    .dataframe tbody tr th {\n",
       "        vertical-align: top;\n",
       "    }\n",
       "\n",
       "    .dataframe thead th {\n",
       "        text-align: right;\n",
       "    }\n",
       "</style>\n",
       "<table border=\"1\" class=\"dataframe\">\n",
       "  <thead>\n",
       "    <tr style=\"text-align: right;\">\n",
       "      <th></th>\n",
       "      <th>Population</th>\n",
       "      <th>Children</th>\n",
       "      <th>Lat</th>\n",
       "      <th>Lng</th>\n",
       "      <th>Income</th>\n",
       "      <th>Age</th>\n",
       "      <th>Tenure</th>\n",
       "      <th>TotalCharge</th>\n",
       "    </tr>\n",
       "  </thead>\n",
       "  <tbody>\n",
       "    <tr>\n",
       "      <th>0</th>\n",
       "      <td>331</td>\n",
       "      <td>1</td>\n",
       "      <td>37.57039</td>\n",
       "      <td>-76.42148</td>\n",
       "      <td>21242.88</td>\n",
       "      <td>68</td>\n",
       "      <td>6.795513</td>\n",
       "      <td>577.760466</td>\n",
       "    </tr>\n",
       "    <tr>\n",
       "      <th>1</th>\n",
       "      <td>53210</td>\n",
       "      <td>0</td>\n",
       "      <td>34.24692</td>\n",
       "      <td>-84.52571</td>\n",
       "      <td>5832.98</td>\n",
       "      <td>70</td>\n",
       "      <td>1.156681</td>\n",
       "      <td>138.171459</td>\n",
       "    </tr>\n",
       "    <tr>\n",
       "      <th>2</th>\n",
       "      <td>2230</td>\n",
       "      <td>1</td>\n",
       "      <td>38.92317</td>\n",
       "      <td>-81.96954</td>\n",
       "      <td>39798.11</td>\n",
       "      <td>86</td>\n",
       "      <td>15.754144</td>\n",
       "      <td>1587.135294</td>\n",
       "    </tr>\n",
       "  </tbody>\n",
       "</table>\n",
       "</div>"
      ],
      "text/plain": [
       "   Population  Children       Lat       Lng    Income  Age     Tenure  \\\n",
       "0         331         1  37.57039 -76.42148  21242.88   68   6.795513   \n",
       "1       53210         0  34.24692 -84.52571   5832.98   70   1.156681   \n",
       "2        2230         1  38.92317 -81.96954  39798.11   86  15.754144   \n",
       "\n",
       "   TotalCharge  \n",
       "0   577.760466  \n",
       "1   138.171459  \n",
       "2  1587.135294  "
      ]
     },
     "execution_count": 49,
     "metadata": {},
     "output_type": "execute_result"
    }
   ],
   "source": [
    "# Cont cols (normalize for KNN)\n",
    "\n",
    "# Continuous cols (normalize-for KNN)\n",
    "cols_cont = ['Population', 'Children', 'Lat', 'Lng', 'Income', 'Age', 'Tenure', 'TotalCharge'] #leave out monthlycharge\n",
    "X_cont = X[cols_cont]\n",
    "X_cont.head(3)"
   ]
  },
  {
   "cell_type": "markdown",
   "metadata": {},
   "source": [
    "### Categorical variables"
   ]
  },
  {
   "cell_type": "code",
   "execution_count": 50,
   "metadata": {},
   "outputs": [],
   "source": [
    "# Cat cols-full list\n",
    "\n",
    "cols_cat_all = X.loc[:, X.dtypes == np.object].columns.values.tolist() #have to translate back to list format\n",
    "cols_cat_all = cols_cat_all[3:] #remove the first three cols, related to cust ID\n"
   ]
  },
  {
   "cell_type": "code",
   "execution_count": 51,
   "metadata": {},
   "outputs": [
    {
     "data": {
      "text/html": [
       "<div>\n",
       "<style scoped>\n",
       "    .dataframe tbody tr th:only-of-type {\n",
       "        vertical-align: middle;\n",
       "    }\n",
       "\n",
       "    .dataframe tbody tr th {\n",
       "        vertical-align: top;\n",
       "    }\n",
       "\n",
       "    .dataframe thead th {\n",
       "        text-align: right;\n",
       "    }\n",
       "</style>\n",
       "<table border=\"1\" class=\"dataframe\">\n",
       "  <thead>\n",
       "    <tr style=\"text-align: right;\">\n",
       "      <th></th>\n",
       "      <th>tot unique</th>\n",
       "    </tr>\n",
       "  </thead>\n",
       "  <tbody>\n",
       "    <tr>\n",
       "      <th>Education</th>\n",
       "      <td>12</td>\n",
       "    </tr>\n",
       "    <tr>\n",
       "      <th>Credit_card</th>\n",
       "      <td>10</td>\n",
       "    </tr>\n",
       "    <tr>\n",
       "      <th>Employment</th>\n",
       "      <td>5</td>\n",
       "    </tr>\n",
       "    <tr>\n",
       "      <th>Marital</th>\n",
       "      <td>5</td>\n",
       "    </tr>\n",
       "    <tr>\n",
       "      <th>PaymentMethod</th>\n",
       "      <td>4</td>\n",
       "    </tr>\n",
       "    <tr>\n",
       "      <th>Area</th>\n",
       "      <td>3</td>\n",
       "    </tr>\n",
       "    <tr>\n",
       "      <th>InternetService</th>\n",
       "      <td>3</td>\n",
       "    </tr>\n",
       "    <tr>\n",
       "      <th>Contract</th>\n",
       "      <td>3</td>\n",
       "    </tr>\n",
       "    <tr>\n",
       "      <th>Partner</th>\n",
       "      <td>2</td>\n",
       "    </tr>\n",
       "    <tr>\n",
       "      <th>OnlineBackup</th>\n",
       "      <td>2</td>\n",
       "    </tr>\n",
       "    <tr>\n",
       "      <th>StreamingMovies</th>\n",
       "      <td>2</td>\n",
       "    </tr>\n",
       "    <tr>\n",
       "      <th>StreamingTV</th>\n",
       "      <td>2</td>\n",
       "    </tr>\n",
       "    <tr>\n",
       "      <th>TechSupport</th>\n",
       "      <td>2</td>\n",
       "    </tr>\n",
       "    <tr>\n",
       "      <th>DeviceProtection</th>\n",
       "      <td>2</td>\n",
       "    </tr>\n",
       "    <tr>\n",
       "      <th>Multiple</th>\n",
       "      <td>2</td>\n",
       "    </tr>\n",
       "    <tr>\n",
       "      <th>OnlineSecurity</th>\n",
       "      <td>2</td>\n",
       "    </tr>\n",
       "    <tr>\n",
       "      <th>Phone</th>\n",
       "      <td>2</td>\n",
       "    </tr>\n",
       "    <tr>\n",
       "      <th>Depend</th>\n",
       "      <td>2</td>\n",
       "    </tr>\n",
       "    <tr>\n",
       "      <th>Churn</th>\n",
       "      <td>2</td>\n",
       "    </tr>\n",
       "    <tr>\n",
       "      <th>Gender</th>\n",
       "      <td>2</td>\n",
       "    </tr>\n",
       "    <tr>\n",
       "      <th>PaperlessBilling</th>\n",
       "      <td>2</td>\n",
       "    </tr>\n",
       "    <tr>\n",
       "      <th>SeniorCitizen</th>\n",
       "      <td>2</td>\n",
       "    </tr>\n",
       "  </tbody>\n",
       "</table>\n",
       "</div>"
      ],
      "text/plain": [
       "                  tot unique\n",
       "Education                 12\n",
       "Credit_card               10\n",
       "Employment                 5\n",
       "Marital                    5\n",
       "PaymentMethod              4\n",
       "Area                       3\n",
       "InternetService            3\n",
       "Contract                   3\n",
       "Partner                    2\n",
       "OnlineBackup               2\n",
       "StreamingMovies            2\n",
       "StreamingTV                2\n",
       "TechSupport                2\n",
       "DeviceProtection           2\n",
       "Multiple                   2\n",
       "OnlineSecurity             2\n",
       "Phone                      2\n",
       "Depend                     2\n",
       "Churn                      2\n",
       "Gender                     2\n",
       "PaperlessBilling           2\n",
       "SeniorCitizen              2"
      ]
     },
     "execution_count": 51,
     "metadata": {},
     "output_type": "execute_result"
    }
   ],
   "source": [
    "# Cat cols-only those with limited tot unique value (otherwise too many categories created for dummies)\n",
    "\n",
    "t = X[cols_cat_all].nunique().sort_values(ascending=False)\n",
    "t = t.loc[lambda t: t < 20]  # change value to what is desired here, from 20\n",
    "cols_cat_all_red = t.index.values.tolist()\n",
    "X[cols_cat_all_red].nunique().to_frame('tot unique') #updated reduced list \n"
   ]
  },
  {
   "cell_type": "code",
   "execution_count": 52,
   "metadata": {},
   "outputs": [
    {
     "name": "stdout",
     "output_type": "stream",
     "text": [
      "number of cat cols chosen:  22\n",
      "total cat cols after one hot encoding:  51\n"
     ]
    },
    {
     "data": {
      "text/html": [
       "<div>\n",
       "<style scoped>\n",
       "    .dataframe tbody tr th:only-of-type {\n",
       "        vertical-align: middle;\n",
       "    }\n",
       "\n",
       "    .dataframe tbody tr th {\n",
       "        vertical-align: top;\n",
       "    }\n",
       "\n",
       "    .dataframe thead th {\n",
       "        text-align: right;\n",
       "    }\n",
       "</style>\n",
       "<table border=\"1\" class=\"dataframe\">\n",
       "  <thead>\n",
       "    <tr style=\"text-align: right;\">\n",
       "      <th></th>\n",
       "      <th>Education_Associate's Degree</th>\n",
       "      <th>Education_Bachelor's Degree</th>\n",
       "      <th>Education_Doctorate Degree</th>\n",
       "      <th>Education_GED or Alternative Credential</th>\n",
       "      <th>Education_Master's Degree</th>\n",
       "      <th>Education_No Schooling Completed</th>\n",
       "      <th>Education_Nursery School to 8th Grade</th>\n",
       "      <th>Education_Professional School Degree</th>\n",
       "      <th>Education_Regular High School Diploma</th>\n",
       "      <th>Education_Some College, 1 or More Years, No Degree</th>\n",
       "      <th>Education_Some College, Less than 1 Year</th>\n",
       "      <th>Credit_card_Diners Club / Carte Blanche</th>\n",
       "      <th>Credit_card_Discover</th>\n",
       "      <th>Credit_card_JCB 15 digit</th>\n",
       "      <th>Credit_card_JCB 16 digit</th>\n",
       "      <th>Credit_card_Maestro</th>\n",
       "      <th>Credit_card_Mastercard</th>\n",
       "      <th>Credit_card_VISA 13 digit</th>\n",
       "      <th>Credit_card_VISA 16 digit</th>\n",
       "      <th>Credit_card_Voyager</th>\n",
       "      <th>Employment_Part Time</th>\n",
       "      <th>Employment_Retired</th>\n",
       "      <th>Employment_Student</th>\n",
       "      <th>Employment_Unemployed</th>\n",
       "      <th>Marital_Married</th>\n",
       "      <th>Marital_Never Married</th>\n",
       "      <th>Marital_Separated</th>\n",
       "      <th>Marital_Widowed</th>\n",
       "      <th>PaymentMethod_Credit Card (automatic)</th>\n",
       "      <th>PaymentMethod_Electronic Check</th>\n",
       "      <th>PaymentMethod_Mailed Check</th>\n",
       "      <th>Area_Suburban</th>\n",
       "      <th>Area_Urban</th>\n",
       "      <th>InternetService_Fiber Optic</th>\n",
       "      <th>InternetService_None</th>\n",
       "      <th>Contract_One year</th>\n",
       "      <th>Contract_Two Year</th>\n",
       "      <th>Partner_Yes</th>\n",
       "      <th>OnlineBackup_Yes</th>\n",
       "      <th>StreamingMovies_Yes</th>\n",
       "      <th>StreamingTV_Yes</th>\n",
       "      <th>TechSupport_Yes</th>\n",
       "      <th>DeviceProtection_Yes</th>\n",
       "      <th>Multiple_Yes</th>\n",
       "      <th>OnlineSecurity_Yes</th>\n",
       "      <th>Phone_Yes</th>\n",
       "      <th>Depend_Yes</th>\n",
       "      <th>Churn_Yes</th>\n",
       "      <th>Gender_Male</th>\n",
       "      <th>PaperlessBilling_Yes</th>\n",
       "      <th>SeniorCitizen_Yes</th>\n",
       "    </tr>\n",
       "  </thead>\n",
       "  <tbody>\n",
       "    <tr>\n",
       "      <th>0</th>\n",
       "      <td>0</td>\n",
       "      <td>0</td>\n",
       "      <td>0</td>\n",
       "      <td>0</td>\n",
       "      <td>0</td>\n",
       "      <td>0</td>\n",
       "      <td>0</td>\n",
       "      <td>0</td>\n",
       "      <td>1</td>\n",
       "      <td>0</td>\n",
       "      <td>0</td>\n",
       "      <td>0</td>\n",
       "      <td>0</td>\n",
       "      <td>0</td>\n",
       "      <td>1</td>\n",
       "      <td>0</td>\n",
       "      <td>0</td>\n",
       "      <td>0</td>\n",
       "      <td>0</td>\n",
       "      <td>0</td>\n",
       "      <td>0</td>\n",
       "      <td>0</td>\n",
       "      <td>0</td>\n",
       "      <td>0</td>\n",
       "      <td>1</td>\n",
       "      <td>0</td>\n",
       "      <td>0</td>\n",
       "      <td>0</td>\n",
       "      <td>1</td>\n",
       "      <td>0</td>\n",
       "      <td>0</td>\n",
       "      <td>0</td>\n",
       "      <td>1</td>\n",
       "      <td>1</td>\n",
       "      <td>0</td>\n",
       "      <td>1</td>\n",
       "      <td>0</td>\n",
       "      <td>1</td>\n",
       "      <td>1</td>\n",
       "      <td>1</td>\n",
       "      <td>0</td>\n",
       "      <td>0</td>\n",
       "      <td>0</td>\n",
       "      <td>0</td>\n",
       "      <td>1</td>\n",
       "      <td>1</td>\n",
       "      <td>1</td>\n",
       "      <td>1</td>\n",
       "      <td>0</td>\n",
       "      <td>1</td>\n",
       "      <td>0</td>\n",
       "    </tr>\n",
       "    <tr>\n",
       "      <th>1</th>\n",
       "      <td>1</td>\n",
       "      <td>0</td>\n",
       "      <td>0</td>\n",
       "      <td>0</td>\n",
       "      <td>0</td>\n",
       "      <td>0</td>\n",
       "      <td>0</td>\n",
       "      <td>0</td>\n",
       "      <td>0</td>\n",
       "      <td>0</td>\n",
       "      <td>0</td>\n",
       "      <td>0</td>\n",
       "      <td>0</td>\n",
       "      <td>0</td>\n",
       "      <td>0</td>\n",
       "      <td>0</td>\n",
       "      <td>0</td>\n",
       "      <td>0</td>\n",
       "      <td>1</td>\n",
       "      <td>0</td>\n",
       "      <td>0</td>\n",
       "      <td>0</td>\n",
       "      <td>0</td>\n",
       "      <td>0</td>\n",
       "      <td>1</td>\n",
       "      <td>0</td>\n",
       "      <td>0</td>\n",
       "      <td>0</td>\n",
       "      <td>0</td>\n",
       "      <td>0</td>\n",
       "      <td>0</td>\n",
       "      <td>1</td>\n",
       "      <td>0</td>\n",
       "      <td>1</td>\n",
       "      <td>0</td>\n",
       "      <td>0</td>\n",
       "      <td>0</td>\n",
       "      <td>0</td>\n",
       "      <td>0</td>\n",
       "      <td>1</td>\n",
       "      <td>1</td>\n",
       "      <td>0</td>\n",
       "      <td>0</td>\n",
       "      <td>1</td>\n",
       "      <td>1</td>\n",
       "      <td>1</td>\n",
       "      <td>1</td>\n",
       "      <td>0</td>\n",
       "      <td>1</td>\n",
       "      <td>1</td>\n",
       "      <td>1</td>\n",
       "    </tr>\n",
       "    <tr>\n",
       "      <th>2</th>\n",
       "      <td>1</td>\n",
       "      <td>0</td>\n",
       "      <td>0</td>\n",
       "      <td>0</td>\n",
       "      <td>0</td>\n",
       "      <td>0</td>\n",
       "      <td>0</td>\n",
       "      <td>0</td>\n",
       "      <td>0</td>\n",
       "      <td>0</td>\n",
       "      <td>0</td>\n",
       "      <td>0</td>\n",
       "      <td>0</td>\n",
       "      <td>0</td>\n",
       "      <td>0</td>\n",
       "      <td>0</td>\n",
       "      <td>1</td>\n",
       "      <td>0</td>\n",
       "      <td>0</td>\n",
       "      <td>0</td>\n",
       "      <td>0</td>\n",
       "      <td>0</td>\n",
       "      <td>1</td>\n",
       "      <td>0</td>\n",
       "      <td>1</td>\n",
       "      <td>0</td>\n",
       "      <td>0</td>\n",
       "      <td>0</td>\n",
       "      <td>1</td>\n",
       "      <td>0</td>\n",
       "      <td>0</td>\n",
       "      <td>0</td>\n",
       "      <td>1</td>\n",
       "      <td>0</td>\n",
       "      <td>0</td>\n",
       "      <td>0</td>\n",
       "      <td>1</td>\n",
       "      <td>1</td>\n",
       "      <td>0</td>\n",
       "      <td>1</td>\n",
       "      <td>0</td>\n",
       "      <td>0</td>\n",
       "      <td>0</td>\n",
       "      <td>1</td>\n",
       "      <td>0</td>\n",
       "      <td>1</td>\n",
       "      <td>0</td>\n",
       "      <td>1</td>\n",
       "      <td>1</td>\n",
       "      <td>1</td>\n",
       "      <td>1</td>\n",
       "    </tr>\n",
       "  </tbody>\n",
       "</table>\n",
       "</div>"
      ],
      "text/plain": [
       "   Education_Associate's Degree  Education_Bachelor's Degree  \\\n",
       "0                             0                            0   \n",
       "1                             1                            0   \n",
       "2                             1                            0   \n",
       "\n",
       "   Education_Doctorate Degree  Education_GED or Alternative Credential  \\\n",
       "0                           0                                        0   \n",
       "1                           0                                        0   \n",
       "2                           0                                        0   \n",
       "\n",
       "   Education_Master's Degree  Education_No Schooling Completed  \\\n",
       "0                          0                                 0   \n",
       "1                          0                                 0   \n",
       "2                          0                                 0   \n",
       "\n",
       "   Education_Nursery School to 8th Grade  \\\n",
       "0                                      0   \n",
       "1                                      0   \n",
       "2                                      0   \n",
       "\n",
       "   Education_Professional School Degree  \\\n",
       "0                                     0   \n",
       "1                                     0   \n",
       "2                                     0   \n",
       "\n",
       "   Education_Regular High School Diploma  \\\n",
       "0                                      1   \n",
       "1                                      0   \n",
       "2                                      0   \n",
       "\n",
       "   Education_Some College, 1 or More Years, No Degree  \\\n",
       "0                                                  0    \n",
       "1                                                  0    \n",
       "2                                                  0    \n",
       "\n",
       "   Education_Some College, Less than 1 Year  \\\n",
       "0                                         0   \n",
       "1                                         0   \n",
       "2                                         0   \n",
       "\n",
       "   Credit_card_Diners Club / Carte Blanche  Credit_card_Discover  \\\n",
       "0                                        0                     0   \n",
       "1                                        0                     0   \n",
       "2                                        0                     0   \n",
       "\n",
       "   Credit_card_JCB 15 digit  Credit_card_JCB 16 digit  Credit_card_Maestro  \\\n",
       "0                         0                         1                    0   \n",
       "1                         0                         0                    0   \n",
       "2                         0                         0                    0   \n",
       "\n",
       "   Credit_card_Mastercard  Credit_card_VISA 13 digit  \\\n",
       "0                       0                          0   \n",
       "1                       0                          0   \n",
       "2                       1                          0   \n",
       "\n",
       "   Credit_card_VISA 16 digit  Credit_card_Voyager  Employment_Part Time  \\\n",
       "0                          0                    0                     0   \n",
       "1                          1                    0                     0   \n",
       "2                          0                    0                     0   \n",
       "\n",
       "   Employment_Retired  Employment_Student  Employment_Unemployed  \\\n",
       "0                   0                   0                      0   \n",
       "1                   0                   0                      0   \n",
       "2                   0                   1                      0   \n",
       "\n",
       "   Marital_Married  Marital_Never Married  Marital_Separated  Marital_Widowed  \\\n",
       "0                1                      0                  0                0   \n",
       "1                1                      0                  0                0   \n",
       "2                1                      0                  0                0   \n",
       "\n",
       "   PaymentMethod_Credit Card (automatic)  PaymentMethod_Electronic Check  \\\n",
       "0                                      1                               0   \n",
       "1                                      0                               0   \n",
       "2                                      1                               0   \n",
       "\n",
       "   PaymentMethod_Mailed Check  Area_Suburban  Area_Urban  \\\n",
       "0                           0              0           1   \n",
       "1                           0              1           0   \n",
       "2                           0              0           1   \n",
       "\n",
       "   InternetService_Fiber Optic  InternetService_None  Contract_One year  \\\n",
       "0                            1                     0                  1   \n",
       "1                            1                     0                  0   \n",
       "2                            0                     0                  0   \n",
       "\n",
       "   Contract_Two Year  Partner_Yes  OnlineBackup_Yes  StreamingMovies_Yes  \\\n",
       "0                  0            1                 1                    1   \n",
       "1                  0            0                 0                    1   \n",
       "2                  1            1                 0                    1   \n",
       "\n",
       "   StreamingTV_Yes  TechSupport_Yes  DeviceProtection_Yes  Multiple_Yes  \\\n",
       "0                0                0                     0             0   \n",
       "1                1                0                     0             1   \n",
       "2                0                0                     0             1   \n",
       "\n",
       "   OnlineSecurity_Yes  Phone_Yes  Depend_Yes  Churn_Yes  Gender_Male  \\\n",
       "0                   1          1           1          1            0   \n",
       "1                   1          1           1          0            1   \n",
       "2                   0          1           0          1            1   \n",
       "\n",
       "   PaperlessBilling_Yes  SeniorCitizen_Yes  \n",
       "0                     1                  0  \n",
       "1                     1                  1  \n",
       "2                     1                  1  "
      ]
     },
     "execution_count": 52,
     "metadata": {},
     "output_type": "execute_result"
    }
   ],
   "source": [
    "# 1. Create dummies-for categorical cols (use reduced col list)\n",
    "\n",
    "X_cat_red = pd.get_dummies(X[cols_cat_all_red], drop_first=True) # drop first as it is redundant\n",
    "print('number of cat cols chosen: ', X[cols_cat_all_red].shape[1])\n",
    "print('total cat cols after one hot encoding: ', X_cat_red.shape[1])\n",
    "X_cat_red.head(3)"
   ]
  },
  {
   "cell_type": "code",
   "execution_count": 53,
   "metadata": {},
   "outputs": [
    {
     "name": "stdout",
     "output_type": "stream",
     "text": [
      "number of cat cols (all):  29\n",
      "total cat cols (all) after one hot encoding:  29\n"
     ]
    },
    {
     "data": {
      "text/html": [
       "<div>\n",
       "<style scoped>\n",
       "    .dataframe tbody tr th:only-of-type {\n",
       "        vertical-align: middle;\n",
       "    }\n",
       "\n",
       "    .dataframe tbody tr th {\n",
       "        vertical-align: top;\n",
       "    }\n",
       "\n",
       "    .dataframe thead th {\n",
       "        text-align: right;\n",
       "    }\n",
       "</style>\n",
       "<table border=\"1\" class=\"dataframe\">\n",
       "  <thead>\n",
       "    <tr style=\"text-align: right;\">\n",
       "      <th></th>\n",
       "      <th>zip</th>\n",
       "      <th>City</th>\n",
       "      <th>State</th>\n",
       "      <th>County</th>\n",
       "      <th>Area</th>\n",
       "      <th>Timezone</th>\n",
       "      <th>Job</th>\n",
       "      <th>Education</th>\n",
       "      <th>Employment</th>\n",
       "      <th>Marital</th>\n",
       "      <th>fav_color</th>\n",
       "      <th>Credit_card</th>\n",
       "      <th>Churn</th>\n",
       "      <th>Gender</th>\n",
       "      <th>SeniorCitizen</th>\n",
       "      <th>Contract</th>\n",
       "      <th>Partner</th>\n",
       "      <th>Depend</th>\n",
       "      <th>InternetService</th>\n",
       "      <th>Phone</th>\n",
       "      <th>Multiple</th>\n",
       "      <th>OnlineSecurity</th>\n",
       "      <th>OnlineBackup</th>\n",
       "      <th>DeviceProtection</th>\n",
       "      <th>TechSupport</th>\n",
       "      <th>StreamingTV</th>\n",
       "      <th>StreamingMovies</th>\n",
       "      <th>PaperlessBilling</th>\n",
       "      <th>PaymentMethod</th>\n",
       "    </tr>\n",
       "  </thead>\n",
       "  <tbody>\n",
       "    <tr>\n",
       "      <th>0</th>\n",
       "      <td>1277</td>\n",
       "      <td>5701</td>\n",
       "      <td>46</td>\n",
       "      <td>934</td>\n",
       "      <td>2</td>\n",
       "      <td>16</td>\n",
       "      <td>461</td>\n",
       "      <td>9</td>\n",
       "      <td>0</td>\n",
       "      <td>1</td>\n",
       "      <td>22</td>\n",
       "      <td>4</td>\n",
       "      <td>1</td>\n",
       "      <td>0</td>\n",
       "      <td>0</td>\n",
       "      <td>1</td>\n",
       "      <td>1</td>\n",
       "      <td>1</td>\n",
       "      <td>1</td>\n",
       "      <td>1</td>\n",
       "      <td>0</td>\n",
       "      <td>1</td>\n",
       "      <td>1</td>\n",
       "      <td>0</td>\n",
       "      <td>0</td>\n",
       "      <td>0</td>\n",
       "      <td>1</td>\n",
       "      <td>1</td>\n",
       "      <td>1</td>\n",
       "    </tr>\n",
       "    <tr>\n",
       "      <th>1</th>\n",
       "      <td>1984</td>\n",
       "      <td>785</td>\n",
       "      <td>10</td>\n",
       "      <td>275</td>\n",
       "      <td>1</td>\n",
       "      <td>16</td>\n",
       "      <td>494</td>\n",
       "      <td>1</td>\n",
       "      <td>0</td>\n",
       "      <td>1</td>\n",
       "      <td>69</td>\n",
       "      <td>8</td>\n",
       "      <td>0</td>\n",
       "      <td>1</td>\n",
       "      <td>1</td>\n",
       "      <td>0</td>\n",
       "      <td>0</td>\n",
       "      <td>1</td>\n",
       "      <td>1</td>\n",
       "      <td>1</td>\n",
       "      <td>1</td>\n",
       "      <td>1</td>\n",
       "      <td>0</td>\n",
       "      <td>0</td>\n",
       "      <td>0</td>\n",
       "      <td>1</td>\n",
       "      <td>1</td>\n",
       "      <td>1</td>\n",
       "      <td>0</td>\n",
       "    </tr>\n",
       "    <tr>\n",
       "      <th>2</th>\n",
       "      <td>1479</td>\n",
       "      <td>2992</td>\n",
       "      <td>50</td>\n",
       "      <td>886</td>\n",
       "      <td>2</td>\n",
       "      <td>16</td>\n",
       "      <td>316</td>\n",
       "      <td>1</td>\n",
       "      <td>3</td>\n",
       "      <td>1</td>\n",
       "      <td>96</td>\n",
       "      <td>6</td>\n",
       "      <td>1</td>\n",
       "      <td>1</td>\n",
       "      <td>1</td>\n",
       "      <td>2</td>\n",
       "      <td>1</td>\n",
       "      <td>0</td>\n",
       "      <td>0</td>\n",
       "      <td>1</td>\n",
       "      <td>1</td>\n",
       "      <td>0</td>\n",
       "      <td>0</td>\n",
       "      <td>0</td>\n",
       "      <td>0</td>\n",
       "      <td>0</td>\n",
       "      <td>1</td>\n",
       "      <td>1</td>\n",
       "      <td>1</td>\n",
       "    </tr>\n",
       "  </tbody>\n",
       "</table>\n",
       "</div>"
      ],
      "text/plain": [
       "    zip  City  State  County  Area  Timezone  Job  Education  Employment  \\\n",
       "0  1277  5701     46     934     2        16  461          9           0   \n",
       "1  1984   785     10     275     1        16  494          1           0   \n",
       "2  1479  2992     50     886     2        16  316          1           3   \n",
       "\n",
       "   Marital  fav_color  Credit_card  Churn  Gender  SeniorCitizen  Contract  \\\n",
       "0        1         22            4      1       0              0         1   \n",
       "1        1         69            8      0       1              1         0   \n",
       "2        1         96            6      1       1              1         2   \n",
       "\n",
       "   Partner  Depend  InternetService  Phone  Multiple  OnlineSecurity  \\\n",
       "0        1       1                1      1         0               1   \n",
       "1        0       1                1      1         1               1   \n",
       "2        1       0                0      1         1               0   \n",
       "\n",
       "   OnlineBackup  DeviceProtection  TechSupport  StreamingTV  StreamingMovies  \\\n",
       "0             1                 0            0            0                1   \n",
       "1             0                 0            0            1                1   \n",
       "2             0                 0            0            0                1   \n",
       "\n",
       "   PaperlessBilling  PaymentMethod  \n",
       "0                 1              1  \n",
       "1                 1              0  \n",
       "2                 1              1  "
      ]
     },
     "execution_count": 53,
     "metadata": {},
     "output_type": "execute_result"
    }
   ],
   "source": [
    "# 2. Label encode-all categorical cols\n",
    "\n",
    "from sklearn import preprocessing\n",
    "le = preprocessing.LabelEncoder()\n",
    "\n",
    "X_cat_all = X[cols_cat_all].apply(le.fit_transform)\n",
    "print('number of cat cols (all): ', X[cols_cat_all].shape[1])\n",
    "print('total cat cols (all) after one hot encoding: ', X_cat_all.shape[1])\n",
    "X_cat_all.head(3) "
   ]
  },
  {
   "cell_type": "code",
   "execution_count": 54,
   "metadata": {},
   "outputs": [
    {
     "name": "stdout",
     "output_type": "stream",
     "text": [
      "total cols for final df, one hot eoncded cat cols:  59\n",
      "total cols for final df, all cat cols:  37\n"
     ]
    }
   ],
   "source": [
    "# Join Cat and Noncat together\n",
    "\n",
    "X_all_ind = pd.concat([X_cont, X_cat_red],axis=1)\n",
    "X_all = pd.concat([X_cont, X_cat_all],axis=1)\n",
    "\n",
    "print('total cols for final df, one hot eoncded cat cols: ', X_all_ind.shape[1]) \n",
    "print('total cols for final df, all cat cols: ',X_all.shape[1])\n",
    "#X_all.head()"
   ]
  },
  {
   "cell_type": "code",
   "execution_count": 14,
   "metadata": {},
   "outputs": [],
   "source": [
    "# Market Basket Set-to be completed\n",
    "\n",
    "# cols_MB = ['HighBlood', 'Stroke', 'Overweight', 'Arthritis', 'Diabetes', 'Hyperlipidemia', 'BackPain', 'Anxiety', 'Allergic_rhinitis', 'Reflux_esophagitis', 'Asthma']\n",
    "\n",
    "# X_MB = X[cols_MB].apply(le.fit_transform) #label encode (to transform yes/no to 0/1)\n",
    "# print('number of cat cols in MB: ', X[cols_MB].shape[1])\n",
    "# print('total cat cols in MB after one hot encoding: ', X_MB.shape[1])\n",
    "# X_MB.head(3) "
   ]
  },
  {
   "cell_type": "markdown",
   "metadata": {},
   "source": [
    "# Unspervised Modeling Techniques"
   ]
  },
  {
   "cell_type": "markdown",
   "metadata": {},
   "source": [
    "# 1. PCA\n",
    "\n",
    "This section covers PCA Analysis"
   ]
  },
  {
   "cell_type": "code",
   "execution_count": 55,
   "metadata": {},
   "outputs": [],
   "source": [
    "from sklearn.preprocessing import MinMaxScaler\n",
    "\n",
    "# Standardize the continous col before PCA\n",
    "\n",
    "scaler = MinMaxScaler()\n",
    "X_cont_std = scaler.fit_transform(X_cont)"
   ]
  },
  {
   "cell_type": "markdown",
   "metadata": {},
   "source": [
    "### Run twice, 2nd time after you determine # components (below)"
   ]
  },
  {
   "cell_type": "code",
   "execution_count": 56,
   "metadata": {},
   "outputs": [
    {
     "name": "stdout",
     "output_type": "stream",
     "text": [
      "original cols:    8\n",
      "prin comp cols: 8\n"
     ]
    }
   ],
   "source": [
    "# Fit PCA model (for specific cum variance)\n",
    "\n",
    "from sklearn.decomposition import PCA\n",
    "\n",
    "# use these for % threshold\n",
    "# percent=.85\n",
    "# pca = PCA(n_components=percent)\n",
    "\n",
    "# use this for all components (first run)\n",
    "pca = PCA()\n",
    "\n",
    "pca.fit(X_cont_std)\n",
    "X_pca = pca.transform(X_cont_std)\n",
    "\n",
    "print(\"original cols:   \", X_cont.shape[1])\n",
    "print(\"prin comp cols:\", X_pca.shape[1])"
   ]
  },
  {
   "cell_type": "code",
   "execution_count": 57,
   "metadata": {},
   "outputs": [
    {
     "name": "stdout",
     "output_type": "stream",
     "text": [
      "Number of components:  8\n",
      "% explained variance:  1.0\n"
     ]
    }
   ],
   "source": [
    "print('Number of components: ', pca.n_components_)\n",
    "print('% explained variance: ', sum(pca.explained_variance_ratio_))"
   ]
  },
  {
   "cell_type": "code",
   "execution_count": 58,
   "metadata": {},
   "outputs": [
    {
     "name": "stdout",
     "output_type": "stream",
     "text": [
      "Explained Variance Ratio\n",
      "PC1: 0.543567414188633\n",
      "PC2: 0.1960981305757725\n",
      "PC3: 0.10795919634660406\n",
      "PC4: 0.05228280603388298\n",
      "PC5: 0.04091785411378702\n",
      "PC6: 0.03486589598092734\n",
      "PC7: 0.022031770781831883\n",
      "PC8: 0.0022769319785612254\n"
     ]
    }
   ],
   "source": [
    "# Print principle components \n",
    "\n",
    "print('Explained Variance Ratio')\n",
    "for i in range(pca.n_components_):\n",
    "    print('PC{}: {}'.format(i+1,pca.explained_variance_ratio_[i]))"
   ]
  },
  {
   "cell_type": "markdown",
   "metadata": {},
   "source": [
    "## Scree plot (choose number of components)"
   ]
  },
  {
   "cell_type": "code",
   "execution_count": 59,
   "metadata": {},
   "outputs": [
    {
     "data": {
      "text/plain": [
       "Text(0.8, 0.85, '90% cut-off threshold')"
      ]
     },
     "execution_count": 59,
     "metadata": {},
     "output_type": "execute_result"
    },
    {
     "data": {
      "image/png": "[encoded data removed]",
      "text/plain": [
       "<Figure size 864x432 with 1 Axes>"
      ]
     },
     "metadata": {},
     "output_type": "display_data"
    }
   ],
   "source": [
    "import matplotlib.pyplot as plt\n",
    "\n",
    "plt.rcParams[\"figure.figsize\"] = (12,6)\n",
    "pca = PCA()\n",
    "pca.fit(X_cont_std)\n",
    "\n",
    "cumsum = np.cumsum(pca.explained_variance_ratio_)\n",
    "dim = np.arange(len(cumsum))+1\n",
    "\n",
    "plt.plot(dim,cumsum,'-',lw=3);\n",
    "\n",
    "plt.xlabel('Number Components')\n",
    "plt.ylabel('Variance Explained')\n",
    "plt.title('Selecting the right number of components')\n",
    "\n",
    "plt.xticks([1,2,3,4,5,6,7,8])\n",
    "plt.ylim([0,1.1]);\n",
    "\n",
    "# add horizontal cuoff line, @ 95%\n",
    "plt.axhline(y=0.90, color='g', linestyle='-')\n",
    "plt.text(0.8,.85, '90% cut-off threshold', color = 'green', fontsize=16)\n",
    "\n"
   ]
  },
  {
   "cell_type": "markdown",
   "metadata": {},
   "source": [
    "# 2. Clustering\n",
    "\n",
    "This section covers clustering"
   ]
  },
  {
   "cell_type": "markdown",
   "metadata": {},
   "source": [
    "## Kmeans clustering"
   ]
  },
  {
   "cell_type": "markdown",
   "metadata": {},
   "source": [
    "## Kmeans-with continous and one hot encoded cols"
   ]
  },
  {
   "cell_type": "code",
   "execution_count": 60,
   "metadata": {},
   "outputs": [],
   "source": [
    "# Kmeans on X cont cols + one hot encoded categorical cols (i.e., X_all_ind)\n",
    "\n",
    "from sklearn.cluster import KMeans\n",
    "kmeans = KMeans(n_clusters=4)\n",
    "kmeans.fit(X_all_ind)\n",
    "y_kmeans = kmeans.predict(X_all_ind) #predict cluster for each observation"
   ]
  },
  {
   "cell_type": "code",
   "execution_count": 61,
   "metadata": {},
   "outputs": [
    {
     "name": "stdout",
     "output_type": "stream",
     "text": [
      "[1 2 0 ... 2 1 0]\n"
     ]
    }
   ],
   "source": [
    "# This prints the cluster labels of each data point (total 1000)\n",
    "\n",
    "print(kmeans.labels_) #alt to y_kmeans"
   ]
  },
  {
   "cell_type": "markdown",
   "metadata": {},
   "source": [
    "## Choose number of clusters-Silhouette and Scree (Extra)"
   ]
  },
  {
   "cell_type": "markdown",
   "metadata": {},
   "source": [
    "### 1. Inertia\n",
    "\n",
    "Based on Within-Cluster-Sum-of-Squares (WCSS)"
   ]
  },
  {
   "cell_type": "code",
   "execution_count": 62,
   "metadata": {},
   "outputs": [
    {
     "data": {
      "image/png": "[encoded data removed]",
      "text/plain": [
       "<Figure size 864x432 with 1 Axes>"
      ]
     },
     "metadata": {},
     "output_type": "display_data"
    }
   ],
   "source": [
    "wcss = []\n",
    "for i in range(1, 11):\n",
    "    kmeans = KMeans(n_clusters = i, random_state = 0)\n",
    "    kmeans.fit(X_all_ind)\n",
    "    wcss.append(kmeans.inertia_)\n",
    "plt.plot(range(1, 11), wcss)\n",
    "plt.title('Elbow Method')\n",
    "plt.xlabel('Number of clusters')\n",
    "plt.ylabel('WCSS')\n",
    "plt.show()"
   ]
  },
  {
   "cell_type": "markdown",
   "metadata": {},
   "source": [
    "## 2. Silhouette\n",
    "\n",
    "Based on max silhouette score"
   ]
  },
  {
   "cell_type": "code",
   "execution_count": 63,
   "metadata": {},
   "outputs": [
    {
     "name": "stdout",
     "output_type": "stream",
     "text": [
      "0.3839984778564964\n"
     ]
    }
   ],
   "source": [
    "from sklearn.metrics import silhouette_score\n",
    "\n",
    "# a value between [-1, 1], with 1 being best, -1 worst (0 means there are overlapping clusters)\n",
    "\n",
    "print(silhouette_score(X_all_ind, kmeans.labels_))"
   ]
  },
  {
   "cell_type": "code",
   "execution_count": 64,
   "metadata": {},
   "outputs": [
    {
     "data": {
      "image/png": "[encoded data removed]",
      "text/plain": [
       "<Figure size 864x432 with 1 Axes>"
      ]
     },
     "metadata": {},
     "output_type": "display_data"
    },
    {
     "data": {
      "text/plain": [
       "<matplotlib.axes._subplots.AxesSubplot at 0x7ffb9685afd0>"
      ]
     },
     "execution_count": 64,
     "metadata": {},
     "output_type": "execute_result"
    }
   ],
   "source": [
    "# Import the KElbowVisualizer method \n",
    "from yellowbrick.cluster import KElbowVisualizer\n",
    "\n",
    "# Instantiate a scikit-learn K-Means model\n",
    "model = KMeans(random_state=0)\n",
    "\n",
    "# Instantiate the KElbowVisualizer with the number of clusters and the metric \n",
    "visualizer = KElbowVisualizer(model, k=(2,10), metric='silhouette', timings=False)\n",
    "\n",
    "# Fit the data and visualize\n",
    "visualizer.fit(X_all_ind)    \n",
    "visualizer.poof()  "
   ]
  },
  {
   "cell_type": "markdown",
   "metadata": {},
   "source": [
    "## Fit kmeans on PCA components-for visualization (Extra)"
   ]
  },
  {
   "cell_type": "code",
   "execution_count": 65,
   "metadata": {},
   "outputs": [
    {
     "name": "stderr",
     "output_type": "stream",
     "text": [
      "/Users/joehaber/opt/anaconda3/lib/python3.7/site-packages/sklearn/utils/deprecation.py:144: FutureWarning: The sklearn.datasets.samples_generator module is  deprecated in version 0.22 and will be removed in version 0.24. The corresponding classes / functions should instead be imported from sklearn.datasets. Anything that cannot be imported from sklearn.datasets is now part of the private API.\n",
      "  warnings.warn(message, FutureWarning)\n"
     ]
    },
    {
     "data": {
      "image/png": "[encoded data removed]",
      "text/plain": [
       "<Figure size 864x432 with 1 Axes>"
      ]
     },
     "metadata": {},
     "output_type": "display_data"
    }
   ],
   "source": [
    "# Scatter 2 PCA components\n",
    "\n",
    "from sklearn.datasets.samples_generator import make_blobs\n",
    "X, y_true = make_blobs(n_samples=300, centers=4,\n",
    "                       cluster_std=0.60, random_state=0)\n",
    "plt.scatter(X_pca[:, 0], X_pca[:, 1], s=1);"
   ]
  },
  {
   "cell_type": "code",
   "execution_count": 66,
   "metadata": {
    "scrolled": true
   },
   "outputs": [],
   "source": [
    "# Kmeans on 2 PCA components (obtained from above)\n",
    "\n",
    "kmeans = KMeans(n_clusters=2) # 2 clusters only based on scatter of data above\n",
    "kmeans.fit(X_pca[:,:2])\n",
    "y_kmeans = kmeans.predict(X_pca[:,:2])  \n"
   ]
  },
  {
   "cell_type": "code",
   "execution_count": 67,
   "metadata": {},
   "outputs": [
    {
     "data": {
      "text/plain": [
       "array([[ 0.46393808,  0.00054884],\n",
       "       [-0.4641237 , -0.00054906]])"
      ]
     },
     "execution_count": 67,
     "metadata": {},
     "output_type": "execute_result"
    }
   ],
   "source": [
    "# This shows cluster centers (total 4) based on 2 components\n",
    "\n",
    "kmeans.cluster_centers_   "
   ]
  },
  {
   "cell_type": "code",
   "execution_count": 68,
   "metadata": {
    "scrolled": true
   },
   "outputs": [
    {
     "data": {
      "image/png": "[encoded data removed]",
      "text/plain": [
       "<Figure size 432x288 with 1 Axes>"
      ]
     },
     "metadata": {},
     "output_type": "display_data"
    }
   ],
   "source": [
    "# Scatter PCA components with clusters (after kmeans)\n",
    "\n",
    "%matplotlib inline\n",
    "import matplotlib.pyplot as plt\n",
    "import seaborn as sns; sns.set()  # for plot styling\n",
    "plt.scatter(X_pca[:, 0], X_pca[:, 1], c=y_kmeans, s=50, cmap='rainbow')\n",
    "\n",
    "centers = kmeans.cluster_centers_\n",
    "plt.scatter(centers[:, 0], centers[:, 1], c='black', s=50, alpha=0.5);"
   ]
  },
  {
   "cell_type": "markdown",
   "metadata": {},
   "source": [
    "## Hierarchical clustering"
   ]
  },
  {
   "cell_type": "code",
   "execution_count": 69,
   "metadata": {},
   "outputs": [],
   "source": [
    "from sklearn.cluster import AgglomerativeClustering"
   ]
  },
  {
   "cell_type": "code",
   "execution_count": 70,
   "metadata": {},
   "outputs": [
    {
     "data": {
      "text/plain": [
       "array([0, 0, 0, ..., 0, 0, 1])"
      ]
     },
     "execution_count": 70,
     "metadata": {},
     "output_type": "execute_result"
    }
   ],
   "source": [
    "groups = AgglomerativeClustering(n_clusters=3, affinity='euclidean', linkage='ward')\n",
    "\n",
    "groups .fit_predict(X_all_ind)"
   ]
  },
  {
   "cell_type": "markdown",
   "metadata": {},
   "source": [
    "## Dendogram for number of clusters"
   ]
  },
  {
   "cell_type": "code",
   "execution_count": 71,
   "metadata": {},
   "outputs": [
    {
     "data": {
      "image/png": "[encoded data removed]",
      "text/plain": [
       "<Figure size 720x720 with 1 Axes>"
      ]
     },
     "metadata": {},
     "output_type": "display_data"
    }
   ],
   "source": [
    "import scipy.cluster.hierarchy as sch\n",
    "plt.figure(figsize=(10,10))\n",
    "dendrogram = sch.dendrogram(sch.linkage(X_all_ind, method = 'ward'))\n",
    "\n",
    "plt.title('Dendrogram')\n",
    "plt.xlabel('Customers')\n",
    "plt.ylabel('Euclidean distances')\n",
    "plt.show()"
   ]
  },
  {
   "cell_type": "markdown",
   "metadata": {},
   "source": [
    "### based on dendogram, the number of clusters should be 3"
   ]
  },
  {
   "cell_type": "markdown",
   "metadata": {},
   "source": [
    "# 3. Market Basket (to be completed)\n",
    "\n",
    "This section covers Market Basket Analysis"
   ]
  },
  {
   "cell_type": "code",
   "execution_count": 136,
   "metadata": {},
   "outputs": [],
   "source": [
    "from mlxtend.frequent_patterns import apriori, association_rules"
   ]
  },
  {
   "cell_type": "code",
   "execution_count": 137,
   "metadata": {},
   "outputs": [
    {
     "ename": "NameError",
     "evalue": "name 'X_MB' is not defined",
     "output_type": "error",
     "traceback": [
      "\u001b[0;31m---------------------------------------------------------------------------\u001b[0m",
      "\u001b[0;31mNameError\u001b[0m                                 Traceback (most recent call last)",
      "\u001b[0;32m<ipython-input-137-d1e74ffb423c>\u001b[0m in \u001b[0;36m<module>\u001b[0;34m\u001b[0m\n\u001b[0;32m----> 1\u001b[0;31m \u001b[0mX_MB\u001b[0m\u001b[0;34m.\u001b[0m\u001b[0mhead\u001b[0m\u001b[0;34m(\u001b[0m\u001b[0;36m3\u001b[0m\u001b[0;34m)\u001b[0m\u001b[0;34m\u001b[0m\u001b[0;34m\u001b[0m\u001b[0m\n\u001b[0m",
      "\u001b[0;31mNameError\u001b[0m: name 'X_MB' is not defined"
     ]
    }
   ],
   "source": [
    "X_MB.head(3)"
   ]
  },
  {
   "cell_type": "code",
   "execution_count": 19,
   "metadata": {},
   "outputs": [],
   "source": [
    "# Apriori algorithm\n",
    "\n",
    "frequent_itemsets = apriori(X_MB, min_support=0.07, use_colnames=True)"
   ]
  },
  {
   "cell_type": "code",
   "execution_count": null,
   "metadata": {},
   "outputs": [],
   "source": [
    "# Freq item sets\n",
    "\n",
    "frequent_itemsets.head(7)"
   ]
  },
  {
   "cell_type": "code",
   "execution_count": null,
   "metadata": {},
   "outputs": [],
   "source": [
    "rules = association_rules(frequent_itemsets, metric=\"confidence\", min_threshold=0.6)\n",
    "rules.head()"
   ]
  },
  {
   "cell_type": "code",
   "execution_count": null,
   "metadata": {},
   "outputs": [],
   "source": [
    "# Get rules set\n",
    "\n",
    "rules = association_rules(frequent_itemsets, metric=\"lift\", min_threshold=1)\n",
    "rules"
   ]
  },
  {
   "cell_type": "code",
   "execution_count": null,
   "metadata": {},
   "outputs": [],
   "source": [
    "# Filter rules set\n",
    "\n",
    "rules[ (rules['lift'] >= 6) &\n",
    "       (rules['confidence'] >= 0.8) ]"
   ]
  },
  {
   "cell_type": "code",
   "execution_count": null,
   "metadata": {},
   "outputs": [],
   "source": []
  }
 ],
 "metadata": {
  "kernelspec": {
   "display_name": "Python 3",
   "language": "python",
   "name": "python3"
  },
  "language_info": {
   "codemirror_mode": {
    "name": "ipython",
    "version": 3
   },
   "file_extension": ".py",
   "mimetype": "text/x-python",
   "name": "python",
   "nbconvert_exporter": "python",
   "pygments_lexer": "ipython3",
   "version": "3.7.6"
  }
 },
 "nbformat": 4,
 "nbformat_minor": 4
}
